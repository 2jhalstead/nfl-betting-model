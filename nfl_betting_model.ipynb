# Step 1: Import Required Libraries
import pandas as pd           # For data manipulation and analysis
import numpy as np            # For numerical operations
from sklearn.model_selection import train_test_split  # For splitting datasets into training and test sets
from sklearn.metrics import mean_squared_error, accuracy_score  # For model evaluation metrics
import statsmodels.api as sm  # For statistical modeling (including regression analysis)

# Step 2: Load Your Dataset
# Replace 'nfl_game_data.csv' with the actual path to your dataset if needed.
data = pd.read_csv('nfl_game_data.csv')

# Step 3: Check the Data
print("Data Loaded Successfully")
print(data.head())  # Display the first few rows of the data
print(f"Data shape: {data.shape}")  # Print the shape of the DataFrame

# Step 4: Clean Data (handle missing values)
data.fillna(0, inplace=True)  # Replace NaN values with 0

# Step 5: Create Additional Features
data['total_points'] = data['home_points'] + data['away_points']
data['point_diff'] = data['home_points'] - data['away_points']

# Step 6: Feature Selection
features = ['team_offense', 'team_defense', 'team_pace', 'weather', 'home_team_advantage', 'injuries']

# Prepare input features (X) and target (y)
X = data[features]
y = data['total_points']

# Step 7: Split the Data into Training and Test Sets
X_train, X_test, y_train, y_test = train_test_split(X, y, test_size=0.2, random_state=42)

# Step 8: Build a Poisson Regression Model
X_train = sm.add_constant(X_train)  # Add a constant for the intercept
poisson_model = sm.GLM(y_train, X_train, family=sm.families.Poisson()).fit()

# Step 9: Print the Model Summary
print(poisson_model.summary())

# Step 10: Predict Total Points on the Test Set
X_test = sm.add_constant(X_test)  # Add a constant for the intercept
y_pred_poisson = poisson_model.predict(X_test)

# Step 11: Calculate Mean Squared Error
mse = mean_squared_error(y_test, y_pred_poisson)
print(f"Mean Squared Error (Poisson Model): {mse}")

# Step 12: Add Predicted Totals and Evaluate Over/Under Predictions
data['predicted_total'] = poisson_model.predict(sm.add_constant(data[features]))

# Define over/under prediction based on model predictions
data['model_over_under'] = np.where(data['predicted_total'] > data['over_under_line'], 'Over', 'Under')

# Compare the model's over/under prediction to the actual game outcome
data['actual_over_under'] = np.where(data['total_points'] > data['over_under_line'], 'Over', 'Under')

# Calculate accuracy of over/under predictions
accuracy = accuracy_score(data['actual_over_under'], data['model_over_under'])
print(f"Over/Under Prediction Accuracy: {accuracy}")

# Step 13: Example Future Game Prediction for Vikings vs Rams
# Replace these with actual feature values for the game
vikings_features = {
    'team_offense': 25.0,  # Offensive points per game for the Vikings
    'team_defense': 20.0,  # Defensive points allowed for the Vikings
    'team_pace': 63,        # Pace for the Vikings (number of plays per game)
    'weather': 1,           # Assuming clear weather
    'home_team_advantage': 0,  # Assuming Vikings are not at home
    'injuries': 2           # Number of significant injuries
}

rams_features = {
    'team_offense': 22.5,  # Offensive points per game for the Rams
    'team_defense': 21.0,  # Defensive points allowed for the Rams
    'team_pace': 61,        # Pace for the Rams
    'weather': 1,           # Assuming clear weather
    'home_team_advantage': 1,  # Assuming Rams are at home
    'injuries': 1           # Number of significant injuries
}

# Calculate combined predicted total for the game
combined_features = {
    'team_offense': (vikings_features['team_offense'] + rams_features['team_offense']) / 2,
    'team_defense': (vikings_features['team_defense'] + rams_features['team_defense']) / 2,
    'team_pace': (vikings_features['team_pace'] + rams_features['team_pace']) / 2,
    'weather': 1,  # Assuming clear weather
    'home_team_advantage': 0,  # Assuming neutral ground for prediction
    'injuries': (vikings_features['injuries'] + rams_features['injuries']) / 2
}

# Create a DataFrame for the future game
future_game = pd.DataFrame([combined_features])

# Add a constant for the intercept
future_game = sm.add_constant(future_game)

# Predict total points for the Vikings vs Rams game
predicted_points = poisson_model.predict(future_game)

print(f"Predicted Total Points for the upcoming Vikings vs Rams game: {predicted_points[0]:.2f}")
